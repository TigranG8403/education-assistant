{
  "nbformat": 4,
  "nbformat_minor": 0,
  "metadata": {
    "colab": {
      "name": "Bert_punctuation.ipynb",
      "provenance": []
    },
    "kernelspec": {
      "name": "python3",
      "display_name": "Python 3"
    }
  },
  "cells": [
    {
      "cell_type": "code",
      "metadata": {
        "id": "huaBg_SbJZgh",
        "colab_type": "code",
        "colab": {
          "base_uri": "https://localhost:8080/",
          "height": 119
        },
        "outputId": "ad921977-6478-477b-9c03-b132f168fd4c"
      },
      "source": [
        "!git clone https://github.com/vlomme/Bert-Russian-punctuation"
      ],
      "execution_count": 1,
      "outputs": [
        {
          "output_type": "stream",
          "text": [
            "Cloning into 'Bert-Russian-punctuation'...\n",
            "remote: Enumerating objects: 21, done.\u001b[K\n",
            "remote: Counting objects: 100% (21/21), done.\u001b[K\n",
            "remote: Compressing objects: 100% (20/20), done.\u001b[K\n",
            "remote: Total 21 (delta 6), reused 0 (delta 0), pack-reused 0\n",
            "Unpacking objects: 100% (21/21), done.\n"
          ],
          "name": "stdout"
        }
      ]
    },
    {
      "cell_type": "code",
      "metadata": {
        "id": "khXglBewJaIJ",
        "colab_type": "code",
        "colab": {
          "base_uri": "https://localhost:8080/",
          "height": 34
        },
        "outputId": "345e2872-2a99-4e2e-da2c-4f6a60df6685"
      },
      "source": [
        "cd Bert-Russian-punctuation/"
      ],
      "execution_count": 2,
      "outputs": [
        {
          "output_type": "stream",
          "text": [
            "/content/Bert-Russian-punctuation\n"
          ],
          "name": "stdout"
        }
      ]
    },
    {
      "cell_type": "code",
      "metadata": {
        "id": "WdvvIh2IJhug",
        "colab_type": "code",
        "colab": {}
      },
      "source": [
        "!pip install -r requirements.txt"
      ],
      "execution_count": 0,
      "outputs": []
    },
    {
      "cell_type": "code",
      "metadata": {
        "id": "xWaly6T3JcXH",
        "colab_type": "code",
        "colab": {
          "base_uri": "https://localhost:8080/",
          "height": 85
        },
        "outputId": "c57e1984-4717-4b6e-f908-9258af79f75e"
      },
      "source": [
        "!gdown https://drive.google.com/uc?id=190dLqhRjqgNJLKBqz0OxQ3TzxSm5Qbfx"
      ],
      "execution_count": 4,
      "outputs": [
        {
          "output_type": "stream",
          "text": [
            "Downloading...\n",
            "From: https://drive.google.com/uc?id=190dLqhRjqgNJLKBqz0OxQ3TzxSm5Qbfx\n",
            "To: /content/Bert-Russian-punctuation/bert_punctuation.tar.gz\n",
            "660MB [00:07, 83.2MB/s]\n"
          ],
          "name": "stdout"
        }
      ]
    },
    {
      "cell_type": "code",
      "metadata": {
        "id": "brVs4XBoJqnX",
        "colab_type": "code",
        "colab": {
          "base_uri": "https://localhost:8080/",
          "height": 34
        },
        "outputId": "b7936be2-e8e1-49ba-a8f8-29f7dd29c022"
      },
      "source": [
        "# Импортруем класс\n",
        "from bert_punctuation import Bert_punctuation\n",
        "\n",
        "# Создайте экземпляр класса\n",
        "Bert_punctuation = Bert_punctuation()\n",
        "\n",
        "# Предложения \n",
        "sents = [\"она переключила внимание на развивающийся прогулочный рынок состоящий \\\n",
        "          из семей с независимым доходом\", \"думаю что поскольку теперь семьи \\\n",
        "          живут не так близко как прежде\"]\n",
        "\n",
        "sents_punctuation = Bert_punctuation.predict(sents)\n",
        "print(sents_punctuation)"
      ],
      "execution_count": 6,
      "outputs": [
        {
          "output_type": "stream",
          "text": [
            "['она переключила внимание на развивающийся прогулочный рынок, состоящий из семей с независимым доходом', 'думаю, что поскольку теперь семьи живут не так близко, как прежде']\n"
          ],
          "name": "stdout"
        }
      ]
    }
  ]
}